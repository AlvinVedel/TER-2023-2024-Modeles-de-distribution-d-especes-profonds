{
 "cells": [
  {
   "cell_type": "code",
   "execution_count": 7,
   "id": "33b8df26",
   "metadata": {},
   "outputs": [],
   "source": [
    "import pandas as pd\n",
    "from sklearn.neighbors import KNeighborsClassifier\n",
    "from sklearn.neighbors import NearestNeighbors\n",
    "import seaborn as sns\n",
    "import matplotlib.pyplot as plt"
   ]
  },
  {
   "cell_type": "code",
   "execution_count": 11,
   "id": "82d5c04c",
   "metadata": {},
   "outputs": [],
   "source": [
    "blind = pd.read_csv(\"../../Data/Data_submission/test_blind.csv\", sep=\";\") #fichier csv qui sera merge pas les prédiction et soumis sur Kaggle\n",
    "donnees_abiotiques = pd.read_csv(\"../../Data/Data_train/enviroTab_pa_train.csv\", sep = ';')  #fichier csv données abiotiques des patchID\n",
    "blind_abiotique = pd.read_csv(\"../../Data/Data_submission/enviroTab_pa_test.csv\", sep = ';')\n",
    "presences = pd.read_excel(\"../../Data/Data_train/Presences_Absences_train.xlsx\") #fichier excel presences/absences"
   ]
  },
  {
   "cell_type": "code",
   "execution_count": 15,
   "id": "33875dc5",
   "metadata": {},
   "outputs": [],
   "source": [
    "X1 = blind_abiotique[['bio1', 'bio2','bio3','bio4','bio5','bio6','bio7','bio8','bio9','bio1','bio10',\n",
    "                      'bio11','bio12','bio13','bio14','bio15','bio16','bio17','bio18','bio19']].values\n",
    "X2 = data_sans_doublons[['bio1', 'bio2','bio3','bio4','bio5','bio6','bio7','bio8','bio9','bio1','bio10',\n",
    "                      'bio11','bio12','bio13','bio14','bio15','bio16','bio17','bio18','bio19']].values"
   ]
  },
  {
   "cell_type": "code",
   "execution_count": 13,
   "id": "7d8023df",
   "metadata": {},
   "outputs": [],
   "source": [
    "data_sans_doublons = presences.groupby(['patchID'])['speciesId'].apply(list).reset_index()\n",
    "data_sans_doublons = data_sans_doublons.merge(donnees_abiotiques, on='patchID', how='inner')\n"
   ]
  },
  {
   "cell_type": "code",
   "execution_count": 30,
   "id": "21e6d2d8",
   "metadata": {},
   "outputs": [],
   "source": [
    " # Création du modèle\n",
    "nn = NearestNeighbors(n_neighbors=60)\n",
    "nn.fit(X2)\n",
    "# le modèle retourne l'indice des k-voisins ainsi que leurs distances du point\n",
    "distances, indices = nn.kneighbors(X1)\n",
    "# Récupération des espèces selon les indices des coordonnées des voisins\n",
    "result = []\n",
    "for i in range(len(X1)):\n",
    "    nearest_species = {}\n",
    "    for j in range(len(indices[i])):\n",
    "        index = indices[i][j]\n",
    "        species_list = data_sans_doublons.loc[index]['speciesId']\n",
    "        for species in species_list:\n",
    "            if species in nearest_species:\n",
    "                nearest_species[species] += 1\n",
    "            else:\n",
    "                nearest_species[species] = 1\n",
    "    selected_species = [species for species, count in nearest_species.items() if count > 30 * 0.2]\n",
    "    result.append(list(selected_species))\n",
    "\n",
    "# Traitement pour l'export du CSV au format acceptable par Kaggle\n",
    "blind['nearest_species'] = result\n",
    "blind = blind[['Id', 'nearest_species']]\n",
    "blind = blind.rename(columns={'nearest_species': 'Predicted'})    \n",
    "blind['Predicted'] = blind['Predicted'].apply(lambda x: str(x).replace('[', '').replace(']', '').replace(',', ''))\n",
    "blind.to_csv(\"60voisinsabiotiqueproba02.csv\", index=False, sep=',')\n"
   ]
  }
 ],
 "metadata": {
  "kernelspec": {
   "display_name": "Python 3 (ipykernel)",
   "language": "python",
   "name": "python3"
  },
  "language_info": {
   "codemirror_mode": {
    "name": "ipython",
    "version": 3
   },
   "file_extension": ".py",
   "mimetype": "text/x-python",
   "name": "python",
   "nbconvert_exporter": "python",
   "pygments_lexer": "ipython3",
   "version": "3.9.13"
  }
 },
 "nbformat": 4,
 "nbformat_minor": 5
}
