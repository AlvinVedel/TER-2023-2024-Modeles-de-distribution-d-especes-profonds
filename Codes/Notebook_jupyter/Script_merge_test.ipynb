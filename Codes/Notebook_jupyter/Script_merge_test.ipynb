{
 "cells": [
  {
   "cell_type": "code",
   "execution_count": null,
   "id": "90cc09df",
   "metadata": {},
   "outputs": [],
   "source": [
    "import pandas as pd\n",
    "import numpy as np\n",
    "print(\"imports OK\")"
   ]
  },
  {
   "cell_type": "code",
   "execution_count": null,
   "id": "17a1e123",
   "metadata": {},
   "outputs": [],
   "source": [
    "df = pd.read_csv(\"../../our_data/output/PresenceAbsenceSurveys/GLC24-PA-metadata-test.csv\")\n",
    "bios = pd.read_csv(\"../../our_data/output/EnvironmentalRasters/Climate/GLC24-PA-test-bioclimatic-average.csv\")\n",
    "bios = bios.fillna(bios.mean())\n",
    "elev = pd.read_csv(\"../../our_data/output/EnvironmentalRasters/Elevation/GLC24-PA-test-elevation.csv\")\n",
    "elev = elev.fillna(elev.mean())\n",
    "human = pd.read_csv(\"../../our_data/output/EnvironmentalRasters/HumanFootprint/GLC24-PA-test-human-footprint.csv\")\n",
    "human = human.fillna(human.mean())\n",
    "land = pd.read_csv(\"../../our_data/output/EnvironmentalRasters/LandCover/GLC24-PA-test-landcover.csv\")\n",
    "land = land.fillna(land.mean())\n",
    "soil = pd.read_csv(\"../../our_data/output/EnvironmentalRasters/Soilgrids/GLC24-PA-test-soilgrids.csv\")\n",
    "soil = soil.fillna(soil.mean())\n",
    "\n",
    "print(\"Lecture dfs OK\")\n",
    "\n",
    "df_final = pd.merge(df, bios, on=\"surveyId\", how=\"inner\")\n",
    "df_final = pd.merge(df_final, elev, on='surveyId', how='inner')\n",
    "df_final = pd.merge(df_final, human, on='surveyId', how='inner')\n",
    "df_final = pd.merge(df_final, land, on='surveyId', how='inner')\n",
    "df_final = pd.merge(df_final, soil, on='surveyId', how='inner')\n",
    "\n",
    "print(\"Fusion OK\")\n",
    "df_final  = df_final.drop(columns = ['areaInM2', 'region', 'country'])\n",
    "\n",
    "survey_id_column = df_final.pop('surveyId')\n",
    "df_final.insert(0, 'surveyId', survey_id_column)\n",
    "\n",
    "print(\"suppression colonnes + survey en 1\")\n",
    "\n",
    "df_final.to_csv(\"../../our_data/data_ter_distribution/outputed_csv/test_all_infos.csv\", sep=',')\n",
    "print(\"csv outputed\")\n"
   ]
  }
 ],
 "metadata": {
  "kernelspec": {
   "display_name": "Python 3 (ipykernel)",
   "language": "python",
   "name": "python3"
  },
  "language_info": {
   "codemirror_mode": {
    "name": "ipython",
    "version": 3
   },
   "file_extension": ".py",
   "mimetype": "text/x-python",
   "name": "python",
   "nbconvert_exporter": "python",
   "pygments_lexer": "ipython3",
   "version": "3.10.8"
  }
 },
 "nbformat": 4,
 "nbformat_minor": 5
}
