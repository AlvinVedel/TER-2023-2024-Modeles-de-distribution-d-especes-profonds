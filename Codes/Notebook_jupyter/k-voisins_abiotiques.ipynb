{
 "cells": [
  {
   "cell_type": "code",
   "execution_count": 2,
   "id": "33b8df26",
   "metadata": {},
   "outputs": [],
   "source": [
    "import pandas as pd\n",
    "from sklearn.neighbors import KNeighborsClassifier\n",
    "from sklearn.neighbors import NearestNeighbors\n",
    "import seaborn as sns\n",
    "import matplotlib.pyplot as plt"
   ]
  },
  {
   "cell_type": "code",
   "execution_count": 3,
   "id": "82d5c04c",
   "metadata": {},
   "outputs": [],
   "source": [
    "blind = pd.read_csv(\"../../Data/Data_submission/test_blind.csv\", sep=\";\") #fichier csv qui sera merge pas les prédiction et soumis sur Kaggle\n",
    "donnees_abiotiques = pd.read_csv(\"../../Data/Data_train/enviroTab_pa_train.csv\", sep = ';')  #fichier csv données abiotiques des patchID\n",
    "blind_abiotique = pd.read_csv(\"../../Data/Data_submission/enviroTab_pa_test.csv\", sep = ';')\n",
    "presences = pd.read_excel(\"../../Data/Data_train/Presences_Absences_train.xlsx\") #fichier excel presences/absences"
   ]
  },
  {
   "cell_type": "code",
   "execution_count": 16,
   "id": "33875dc5",
   "metadata": {},
   "outputs": [],
   "source": [
    "X1 = blind_abiotique[['dayOfYear', 'geoUncertaintyInM', 'bio1', 'bio2',\n",
    "       'bio3', 'bio4', 'bio5', 'bio6', 'bio7', 'bio8', 'bio9', 'bio10',\n",
    "       'bio11', 'bio12', 'bio13', 'bio14', 'bio15', 'bio16', 'bio17', 'bio18',\n",
    "       'bio19', 'bdod', 'cec', 'cfvo', 'clay', 'nitrogen', 'phh2o', 'sand',\n",
    "       'silt', 'soc', 'landCov', 'Built1994', 'Lights1994', 'NavWater1994',\n",
    "       'Built2009', 'Lights2009', 'NavWater2009', 'Popdensity1990',\n",
    "       'Popdensity2010', 'Railways', 'Roads']].values\n",
    "X2 = data_sans_doublons[['dayOfYear', 'geoUncertaintyInM', 'bio1', 'bio2',\n",
    "       'bio3', 'bio4', 'bio5', 'bio6', 'bio7', 'bio8', 'bio9', 'bio10',\n",
    "       'bio11', 'bio12', 'bio13', 'bio14', 'bio15', 'bio16', 'bio17', 'bio18',\n",
    "       'bio19', 'bdod', 'cec', 'cfvo', 'clay', 'nitrogen', 'phh2o', 'sand',\n",
    "       'silt', 'soc', 'landCov', 'Built1994', 'Lights1994', 'NavWater1994',\n",
    "       'Built2009', 'Lights2009', 'NavWater2009', 'Popdensity1990',\n",
    "       'Popdensity2010', 'Railways', 'Roads']].values"
   ]
  },
  {
   "cell_type": "code",
   "execution_count": 24,
   "id": "24810d2e",
   "metadata": {},
   "outputs": [
    {
     "data": {
      "text/plain": [
       "Index([], dtype='object')"
      ]
     },
     "execution_count": 24,
     "metadata": {},
     "output_type": "execute_result"
    }
   ],
   "source": [
    "colonnes_avec_nan = blind_abiotique.columns[blind_abiotique.isna().any()]\n",
    "colonnes_avec_nan"
   ]
  },
  {
   "cell_type": "code",
   "execution_count": 34,
   "id": "7d8023df",
   "metadata": {},
   "outputs": [
    {
     "data": {
      "text/plain": [
       "patchID                                                          72050\n",
       "speciesId            [6755, 2502, 1267, 6971, 8377, 6994, 4325, 641...\n",
       "dayOfYear                                                          108\n",
       "lon                                                           4.991745\n",
       "lat                                                           43.43321\n",
       "x_EPSG3035                                                   3914776.0\n",
       "y_EPSG3035                                                   2271866.0\n",
       "year                                                              2018\n",
       "dataset                                                         CBNMed\n",
       "geoUncertaintyInM                                                  0.0\n",
       "bio1                                                              2888\n",
       "bio2                                                                81\n",
       "bio3                                                              3.14\n",
       "bio4                                                              6111\n",
       "bio5                                                              3027\n",
       "bio6                                                              2768\n",
       "bio7                                                               259\n",
       "bio8                                                              2893\n",
       "bio9                                                              2970\n",
       "bio10                                                             2970\n",
       "bio11                                                             2812\n",
       "bio12                                                             5908\n",
       "bio13                                                              858\n",
       "bio14                                                              108\n",
       "bio15                                                              443\n",
       "bio16                                                             2366\n",
       "bio17                                                              652\n",
       "bio18                                                              652\n",
       "bio19                                                             1474\n",
       "bdod                                                        133.719604\n",
       "cec                                                         214.297607\n",
       "cfvo                                                         182.32312\n",
       "clay                                                        281.333527\n",
       "nitrogen                                                    206.458862\n",
       "phh2o                                                        73.707649\n",
       "sand                                                        319.453522\n",
       "silt                                                        398.920593\n",
       "soc                                                         331.747864\n",
       "landCov                                                              9\n",
       "Built1994                                                         10.0\n",
       "Lights1994                                                        10.0\n",
       "NavWater1994                                                   0.66132\n",
       "Built2009                                                         10.0\n",
       "Lights2009                                                        10.0\n",
       "NavWater2009                                                   0.66132\n",
       "Popdensity1990                                                     9.0\n",
       "Popdensity2010                                                     9.0\n",
       "Railways                                                           0.0\n",
       "Roads                                                              4.0\n",
       "Name: 66, dtype: object"
      ]
     },
     "execution_count": 34,
     "metadata": {},
     "output_type": "execute_result"
    }
   ],
   "source": [
    "data_sans_doublons = presences.groupby(['patchID'])['speciesId'].apply(list).reset_index()\n",
    "data_sans_doublons = data_sans_doublons.merge(donnees_abiotiques, on='patchID', how='inner')\n",
    "data_sans_doublons.dropna(inplace = True)\n",
    "data_sans_doublons.reset_index(drop=True, inplace=True)\n",
    "data_sans_doublons.loc[66]"
   ]
  },
  {
   "cell_type": "code",
   "execution_count": 35,
   "id": "21e6d2d8",
   "metadata": {},
   "outputs": [],
   "source": [
    " # Création du modèle\n",
    "nn = NearestNeighbors(n_neighbors=80)\n",
    "nn.fit(X2)\n",
    "# le modèle retourne l'indice des k-voisins ainsi que leurs distances du point\n",
    "distances, indices = nn.kneighbors(X1)\n",
    "# Récupération des espèces selon les indices des coordonnées des voisins\n",
    "result = []\n",
    "for i in range(len(X1)):\n",
    "    nearest_species = {}\n",
    "    for j in range(len(indices[i])):\n",
    "        index = indices[i][j]\n",
    "        species_list = data_sans_doublons.loc[index]['speciesId']\n",
    "        for species in species_list:\n",
    "            if species in nearest_species:\n",
    "                nearest_species[species] += 1\n",
    "            else:\n",
    "                nearest_species[species] = 1\n",
    "    selected_species = [species for species, count in nearest_species.items() if count > 80 * 0.2]\n",
    "    result.append(list(selected_species))\n",
    "\n",
    "# Traitement pour l'export du CSV au format acceptable par Kaggle\n",
    "blind['nearest_species'] = result\n",
    "blind = blind[['Id', 'nearest_species']]\n",
    "blind = blind.rename(columns={'nearest_species': 'Predicted'})    \n",
    "blind['Predicted'] = blind['Predicted'].apply(lambda x: str(x).replace('[', '').replace(']', '').replace(',', ''))\n",
    "blind.to_csv(\"80voisinsabiotiqueproba02(test).csv\", index=False, sep=',')\n"
   ]
  }
 ],
 "metadata": {
  "kernelspec": {
   "display_name": "Python 3 (ipykernel)",
   "language": "python",
   "name": "python3"
  },
  "language_info": {
   "codemirror_mode": {
    "name": "ipython",
    "version": 3
   },
   "file_extension": ".py",
   "mimetype": "text/x-python",
   "name": "python",
   "nbconvert_exporter": "python",
   "pygments_lexer": "ipython3",
   "version": "3.9.13"
  }
 },
 "nbformat": 4,
 "nbformat_minor": 5
}
