{
 "cells": [
  {
   "cell_type": "code",
   "execution_count": 2,
   "id": "33b8df26",
   "metadata": {},
   "outputs": [],
   "source": [
    "import pandas as pd\n",
    "from sklearn.neighbors import KNeighborsClassifier\n",
    "from sklearn.neighbors import NearestNeighbors\n",
    "import seaborn as sns\n",
    "import matplotlib.pyplot as plt"
   ]
  },
  {
   "cell_type": "code",
   "execution_count": 3,
   "id": "82d5c04c",
   "metadata": {},
   "outputs": [],
   "source": [
    "blind = pd.read_csv(\"../../Data/Data_submission/test_blind.csv\", sep=\";\") #fichier csv qui sera merge pas les prédiction et soumis sur Kaggle\n",
    "donnees_abiotiques = pd.read_csv(\"../../Data/Data_train/enviroTab_pa_train.csv\", sep = ';')  #fichier csv données abiotiques des patchID\n",
    "blind_abiotique = pd.read_csv(\"../../Data/Data_submission/enviroTab_pa_test.csv\", sep = ';')\n",
    "presences = pd.read_excel(\"../../Data/Data_train/Presences_Absences_train.xlsx\") #fichier excel presences/absences"
   ]
  },
  {
   "cell_type": "code",
   "execution_count": 4,
   "id": "33875dc5",
   "metadata": {},
   "outputs": [
    {
     "ename": "NameError",
     "evalue": "name 'data_sans_doublons' is not defined",
     "output_type": "error",
     "traceback": [
      "\u001b[1;31m---------------------------------------------------------------------------\u001b[0m",
      "\u001b[1;31mNameError\u001b[0m                                 Traceback (most recent call last)",
      "\u001b[1;32m~\\AppData\\Local\\Temp\\ipykernel_13832\\496023853.py\u001b[0m in \u001b[0;36m<module>\u001b[1;34m\u001b[0m\n\u001b[0;32m      6\u001b[0m        \u001b[1;34m'Built2009'\u001b[0m\u001b[1;33m,\u001b[0m \u001b[1;34m'Lights2009'\u001b[0m\u001b[1;33m,\u001b[0m \u001b[1;34m'NavWater2009'\u001b[0m\u001b[1;33m,\u001b[0m \u001b[1;34m'Popdensity1990'\u001b[0m\u001b[1;33m,\u001b[0m\u001b[1;33m\u001b[0m\u001b[1;33m\u001b[0m\u001b[0m\n\u001b[0;32m      7\u001b[0m        'Popdensity2010', 'Railways', 'Roads']].values\n\u001b[1;32m----> 8\u001b[1;33m X2 = data_sans_doublons[['dayOfYear', 'geoUncertaintyInM', 'bio1', 'bio2',\n\u001b[0m\u001b[0;32m      9\u001b[0m        \u001b[1;34m'bio3'\u001b[0m\u001b[1;33m,\u001b[0m \u001b[1;34m'bio4'\u001b[0m\u001b[1;33m,\u001b[0m \u001b[1;34m'bio5'\u001b[0m\u001b[1;33m,\u001b[0m \u001b[1;34m'bio6'\u001b[0m\u001b[1;33m,\u001b[0m \u001b[1;34m'bio7'\u001b[0m\u001b[1;33m,\u001b[0m \u001b[1;34m'bio8'\u001b[0m\u001b[1;33m,\u001b[0m \u001b[1;34m'bio9'\u001b[0m\u001b[1;33m,\u001b[0m \u001b[1;34m'bio10'\u001b[0m\u001b[1;33m,\u001b[0m\u001b[1;33m\u001b[0m\u001b[1;33m\u001b[0m\u001b[0m\n\u001b[0;32m     10\u001b[0m        \u001b[1;34m'bio11'\u001b[0m\u001b[1;33m,\u001b[0m \u001b[1;34m'bio12'\u001b[0m\u001b[1;33m,\u001b[0m \u001b[1;34m'bio13'\u001b[0m\u001b[1;33m,\u001b[0m \u001b[1;34m'bio14'\u001b[0m\u001b[1;33m,\u001b[0m \u001b[1;34m'bio15'\u001b[0m\u001b[1;33m,\u001b[0m \u001b[1;34m'bio16'\u001b[0m\u001b[1;33m,\u001b[0m \u001b[1;34m'bio17'\u001b[0m\u001b[1;33m,\u001b[0m \u001b[1;34m'bio18'\u001b[0m\u001b[1;33m,\u001b[0m\u001b[1;33m\u001b[0m\u001b[1;33m\u001b[0m\u001b[0m\n",
      "\u001b[1;31mNameError\u001b[0m: name 'data_sans_doublons' is not defined"
     ]
    }
   ],
   "source": [
    "X1 = blind_abiotique[['dayOfYear', 'geoUncertaintyInM', 'bio1', 'bio2',\n",
    "       'bio3', 'bio4', 'bio5', 'bio6', 'bio7', 'bio8', 'bio9', 'bio10',\n",
    "       'bio11', 'bio12', 'bio13', 'bio14', 'bio15', 'bio16', 'bio17', 'bio18',\n",
    "       'bio19', 'bdod', 'cec', 'cfvo', 'clay', 'nitrogen', 'phh2o', 'sand',\n",
    "       'silt', 'soc', 'landCov', 'Built1994', 'Lights1994', 'NavWater1994',\n",
    "       'Built2009', 'Lights2009', 'NavWater2009', 'Popdensity1990',\n",
    "       'Popdensity2010', 'Railways', 'Roads']].values\n",
    "X2 = data_sans_doublons[['dayOfYear', 'geoUncertaintyInM', 'bio1', 'bio2',\n",
    "       'bio3', 'bio4', 'bio5', 'bio6', 'bio7', 'bio8', 'bio9', 'bio10',\n",
    "       'bio11', 'bio12', 'bio13', 'bio14', 'bio15', 'bio16', 'bio17', 'bio18',\n",
    "       'bio19', 'bdod', 'cec', 'cfvo', 'clay', 'nitrogen', 'phh2o', 'sand',\n",
    "       'silt', 'soc', 'landCov', 'Built1994', 'Lights1994', 'NavWater1994',\n",
    "       'Built2009', 'Lights2009', 'NavWater2009', 'Popdensity1990',\n",
    "       'Popdensity2010', 'Railways', 'Roads']].values"
   ]
  },
  {
   "cell_type": "code",
   "execution_count": null,
   "id": "24810d2e",
   "metadata": {},
   "outputs": [],
   "source": [
    "colonnes_avec_nan = blind_abiotique.columns[blind_abiotique.isna().any()]\n",
    "colonnes_avec_nan"
   ]
  },
  {
   "cell_type": "code",
   "execution_count": 17,
   "id": "7d8023df",
   "metadata": {},
   "outputs": [],
   "source": [
    "data_sans_doublons = presences.groupby(['patchID'])['speciesId'].apply(list).reset_index()\n",
    "data_sans_doublons = data_sans_doublons.merge(donnees_abiotiques, on='patchID', how='inner')\n",
    "data_sans_doublons.dropna(inplace = True)\n",
    "data_sans_doublons.reset_index(drop=True, inplace=True)"
   ]
  },
  {
   "cell_type": "code",
   "execution_count": null,
   "id": "21e6d2d8",
   "metadata": {},
   "outputs": [],
   "source": [
    " # Création du modèle\n",
    "nn = NearestNeighbors(n_neighbors=80)\n",
    "nn.fit(X2)\n",
    "# le modèle retourne l'indice des k-voisins ainsi que leurs distances du point\n",
    "distances, indices = nn.kneighbors(X1)\n",
    "# Récupération des espèces selon les indices des coordonnées des voisins\n",
    "result = []\n",
    "for i in range(len(X1)):\n",
    "    nearest_species = {}\n",
    "    for j in range(len(indices[i])):\n",
    "        index = indices[i][j]\n",
    "        species_list = data_sans_doublons.loc[index]['speciesId']\n",
    "        for species in species_list:\n",
    "            if species in nearest_species:\n",
    "                nearest_species[species] += 1\n",
    "            else:\n",
    "                nearest_species[species] = 1\n",
    "    selected_species = [species for species, count in nearest_species.items() if count > 80 * 0.2]\n",
    "    result.append(list(selected_species))\n",
    "\n",
    "# Traitement pour l'export du CSV au format acceptable par Kaggle\n",
    "blind['nearest_species'] = result\n",
    "blind = blind[['Id', 'nearest_species']]\n",
    "blind = blind.rename(columns={'nearest_species': 'Predicted'})    \n",
    "blind['Predicted'] = blind['Predicted'].apply(lambda x: str(x).replace('[', '').replace(']', '').replace(',', ''))\n",
    "blind.to_csv(\"80voisinsabiotiqueproba02(test).csv\", index=False, sep=',')\n"
   ]
  }
 ],
 "metadata": {
  "kernelspec": {
   "display_name": "Python 3 (ipykernel)",
   "language": "python",
   "name": "python3"
  },
  "language_info": {
   "codemirror_mode": {
    "name": "ipython",
    "version": 3
   },
   "file_extension": ".py",
   "mimetype": "text/x-python",
   "name": "python",
   "nbconvert_exporter": "python",
   "pygments_lexer": "ipython3",
   "version": "3.9.13"
  }
 },
 "nbformat": 4,
 "nbformat_minor": 5
}
