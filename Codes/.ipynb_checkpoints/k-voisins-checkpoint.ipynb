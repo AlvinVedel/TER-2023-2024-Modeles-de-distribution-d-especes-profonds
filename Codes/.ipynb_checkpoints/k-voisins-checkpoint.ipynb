{
 "cells": [
  {
   "cell_type": "code",
   "execution_count": 1,
   "id": "c729249f",
   "metadata": {},
   "outputs": [],
   "source": [
    "import pandas as pd\n",
    "from sklearn.neighbors import KNeighborsClassifier\n",
    "from sklearn.neighbors import NearestNeighbors"
   ]
  },
  {
   "cell_type": "code",
   "execution_count": 162,
   "id": "b57bd2f3",
   "metadata": {},
   "outputs": [],
   "source": [
    "blind = pd.read_csv(\"../Data/Data_submission/test_blind.csv\", sep=\";\") #fichier csv qui sera merge pas les prédiction et soumis sur Kaggle\n",
    "presences = pd.read_excel(\"../Data/Data_train/Presences_Absences_train.xlsx\") #fichier csv presences/absences"
   ]
  },
  {
   "cell_type": "code",
   "execution_count": 190,
   "id": "7ec1a505",
   "metadata": {},
   "outputs": [],
   "source": [
    "def k_voisins(k, data, test):\n",
    "    \n",
    "    data_sans_doublons = data.groupby(['lat', 'lon'])['speciesId'].apply(set).reset_index()\n",
    "\n",
    "    X1 = test[['lat', 'lon']].values\n",
    "    X2 = data_sans_doublons[['lat', 'lon']].values\n",
    "    \n",
    "    nn = NearestNeighbors(n_neighbors=k)\n",
    "    nn.fit(X2)\n",
    "    distances, indices = nn.kneighbors(X1)\n",
    "    \n",
    "    result = []\n",
    "    for i in range(len(test)):\n",
    "        nearest_species = set()\n",
    "        for j in range(len(indices[i])):\n",
    "            index = indices[i][j]\n",
    "            nearest_species.update(data_sans_doublons.loc[index]['speciesId'])\n",
    "        result.append(list(nearest_species))\n",
    "    \n",
    "    test['nearest_species'] = result\n",
    "    test = test[['Id', 'nearest_species']]\n",
    "    test = test.rename(columns={'nearest_species': 'Predicted'})    \n",
    "    test['Predicted'] = test['Predicted'].apply(lambda x: str(x).replace('[', '').replace(']', '').replace(',', ''))\n",
    "    test.to_csv('4-voisins.csv', index=False, sep=',')\n",
    "\n",
    "    return test\n"
   ]
  },
  {
   "cell_type": "code",
   "execution_count": 191,
   "id": "0ff96611",
   "metadata": {},
   "outputs": [
    {
     "name": "stdout",
     "output_type": "stream",
     "text": [
      "Wall time: 13.7 s\n"
     ]
    }
   ],
   "source": [
    "%%time\n",
    "test = k_voisins(4, presences, blind)"
   ]
  }
 ],
 "metadata": {
  "kernelspec": {
   "display_name": "Python 3 (ipykernel)",
   "language": "python",
   "name": "python3"
  },
  "language_info": {
   "codemirror_mode": {
    "name": "ipython",
    "version": 3
   },
   "file_extension": ".py",
   "mimetype": "text/x-python",
   "name": "python",
   "nbconvert_exporter": "python",
   "pygments_lexer": "ipython3",
   "version": "3.9.13"
  }
 },
 "nbformat": 4,
 "nbformat_minor": 5
}
