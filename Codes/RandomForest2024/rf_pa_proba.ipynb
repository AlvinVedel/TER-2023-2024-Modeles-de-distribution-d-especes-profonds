{
 "cells": [
  {
   "cell_type": "code",
   "execution_count": 1,
   "metadata": {},
   "outputs": [],
   "source": [
    "import pandas as pd\n",
    "import numpy as np\n",
    "from sklearn.ensemble import RandomForestClassifier"
   ]
  },
  {
   "cell_type": "code",
   "execution_count": 5,
   "metadata": {},
   "outputs": [],
   "source": [
    "# Data train\n",
    "train_bio_ave = pd.read_csv('GLC24-PA-train-bioclimatic-average.csv')\n",
    "train_elev = pd.read_csv('GLC24-PA-train-elevation.csv')\n",
    "train_human = pd.read_csv('GLC24-PA-train-human-footprint.csv')\n",
    "train_land = pd.read_csv('GLC24-PA-train-landcover.csv')\n",
    "train_soilgrid = pd.read_csv('GLC24-PA-train-soilgrids.csv')\n",
    "\n",
    "abio = train_bio_ave.merge(train_elev, on='surveyId')\\\n",
    "        .merge(train_human, on='surveyId')\\\n",
    "                .merge(train_land, on='surveyId')\\\n",
    "                    .merge(train_soilgrid, on='surveyId')\n",
    "                    \n",
    "abio = abio.replace([np.inf], np.nan)\n",
    "abio = abio.replace([-np.inf], np.nan)\n",
    "abio = abio.fillna(abio.mean())\n",
    "\n",
    "\n",
    "# Data TEST\n",
    "test_bio_ave = pd.read_csv('GLC24-PA-test-bioclimatic-average.csv')\n",
    "test_elev = pd.read_csv('GLC24-PA-test-elevation.csv')\n",
    "test_human = pd.read_csv('GLC24-PA-test-human-footprint.csv')\n",
    "test_land = pd.read_csv('GLC24-PA-test-landcover.csv')\n",
    "test_soilgrid = pd.read_csv('GLC24-PA-test-soilgrids.csv')\n",
    "\n",
    "abiotest = test_bio_ave.merge(test_elev, on='surveyId')\\\n",
    "        .merge(test_human, on='surveyId')\\\n",
    "                .merge(test_land, on='surveyId')\\\n",
    "                    .merge(test_soilgrid, on='surveyId')\n",
    "                    \n",
    "                    \n",
    "# Listes espèces\n",
    "species = pd.read_csv('GLC24-PA-metadata-train.csv')\n",
    "species['speciesId'] = species['speciesId'].astype(int)"
   ]
  },
  {
   "cell_type": "code",
   "execution_count": 6,
   "metadata": {},
   "outputs": [
    {
     "name": "stdout",
     "output_type": "stream",
     "text": [
      "0\n",
      "1\n",
      "2\n",
      "3\n",
      "4\n"
     ]
    }
   ],
   "source": [
    "#Regroupement des surveyId\n",
    "species_patch = species.groupby('speciesId')['surveyId'].agg(list).reset_index()\n",
    "\n",
    "#Liste présence/absence\n",
    "presence = []\n",
    "for i in range(len(species_patch)):\n",
    "    survey_id = species_patch['surveyId'].iloc[i]\n",
    "    species_id = species_patch['speciesId'].iloc[i]\n",
    "    # Pour chaque espèce on stock 0 ou 1 pour chaqeu surveyId\n",
    "    presence_espece = abio['surveyId'].isin(survey_id).astype(int)\n",
    "    # On rassemble les présences de toutes les espèces dans une liste\n",
    "    presence.append((str(species_id), presence_espece))\n",
    "    print(i)"
   ]
  },
  {
   "cell_type": "code",
   "execution_count": 7,
   "metadata": {},
   "outputs": [
    {
     "name": "stdout",
     "output_type": "stream",
     "text": [
      "0\n",
      "1\n",
      "2\n",
      "3\n"
     ]
    }
   ],
   "source": [
    "# Random Forest\n",
    "proba_predict={}\n",
    "\n",
    "X_test = abiotest.iloc[:,1:].values\n",
    "X_train = abio.iloc[:,1:].values\n",
    "model = RandomForestClassifier(n_estimators=100)\n",
    "\n",
    "for i in range(len(species_patch)-1):\n",
    "    Y_train = presence[i][1]\n",
    "    model.fit(X_train, Y_train)\n",
    "    Y_pred = model.predict_proba(X_test)[:,1]\n",
    "    species_name = presence[i][0]\n",
    "    proba_predict[species_name] = Y_pred\n",
    "    print(i)\n",
    "    \n",
    "pa_proba = pd.DataFrame(proba_predict)\n",
    "pa_proba.to_csv(\"RF_100_allparam_pa_proba.csv\", index=False, sep=',')"
   ]
  }
 ],
 "metadata": {
  "kernelspec": {
   "display_name": "Python 3",
   "language": "python",
   "name": "python3"
  },
  "language_info": {
   "codemirror_mode": {
    "name": "ipython",
    "version": 3
   },
   "file_extension": ".py",
   "mimetype": "text/x-python",
   "name": "python",
   "nbconvert_exporter": "python",
   "pygments_lexer": "ipython3",
   "version": "3.12.undefined"
  }
 },
 "nbformat": 4,
 "nbformat_minor": 2
}
